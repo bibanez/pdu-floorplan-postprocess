from pysat.formula import *
from pysat.card import *
from pysat.solvers import Solver
import numpy as np


shape = np.array([[0, 0, 1, 1, 0, 0],
         [0, 1, 1, 1, 1, 0],
         [0, 1, 1, 1, 1, 0],
         [0, 1, 1, 1, 1, 1],
         [0, 0, 0, 0, 1, 0]])
n = shape.shape[0]
m = shape.shape[1]


print(n, m)


cnf = CardEnc.atleast(lits=[1, 2, 3], bound=2, encoding=EncType.pairwise)
print(cnf.clauses)


s = Solver(name='mc')
for clause in cnf.clauses:
    s.add_clause(clause)
s.solve()
s.get_model()


Formula.set_context("test")
test = (Atom('a') & Atom('b')) ^ Atom('c')
test.clausify()
print(test.clauses)
test = test & Atom('d')
test.clausify()
print(test.clauses)
Formula.set_context("default")


with Solver(bootstrap_with=And(Atom(1), Atom(2))) as solver:
        if solver.solve():
            print("satisfiable")
            res = solver.get_model()
        else:
            print("unsatisfiable")


def rectangle_formula(n: int, m: int, k: int, vpool: IDPool, solver: Solver):
    t = lambda k, i: Atom(vpool.id('t{},{}'.format(k, i)))
    b = lambda k, i: Atom(vpool.id('b{},{}'.format(k, i)))
    l = lambda k, j: Atom(vpool.id('l{},{}'.format(k, j)))
    r = lambda k, j: Atom(vpool.id('r{},{}'.format(k, j)))

    constraints = []
    for i in 
            

    return constraints
    #rect_constr = And(*[constraint for constraint in constraints])
    #for clause in rect_constr:
    #    solver.add_clause(clause)


from pysat.formula import *
from pysat.card import *
from pysat.solvers import Solver
import numpy as np

# Definim la forma que volem cobrir amb un rectangle
shape = np.array([[0, 0, 0, 1, 1, 0],
                  [0, 1, 1, 1, 1, 0],
                  [1, 1, 1, 1, 1, 0],
                  [0, 1, 1, 1, 1, 1],
                  [0, 0, 1, 1, 1, 0]])
n = shape.shape[0]
m = shape.shape[1]

# De moment només treballarem amb k=1 rectangles
vpool = IDPool()  # IDPool() controla el canvi de nom <-> literal (nombre >= 1)
e = lambda i, j: Atom(vpool.id('e{},{}'.format(i, j)))
s = lambda i, j: Atom(vpool.id('s{},{}'.format(i, j)))
l = lambda i: Atom(vpool.id('l{}'.format(i)))
r = lambda i: Atom(vpool.id('r{}'.format(i)))
t = lambda j: Atom(vpool.id('t{}'.format(j)))
c = lambda j: Atom(vpool.id('c{}'.format(j)))

# Definim totes les fórmules que després hauran d'anar juntes amb un And
constraints = []

# Restriccions files
constraints.append(Equals(l(0), r(0)))
for i in range(1, n):
    constraints.append(l(i) >> And(r(i), ~r(i-1)))  # >> vol dir implicació
    constraints.append(And(r(i), ~l(i)) >> r(i-1))

# Restriccions columnes
constraints.append(Equals(t(0), c(0)))
for j in range(1, m):
    constraints.append(t(j) >> And(c(j), ~c(j-1)))
    constraints.append(And(c(j), ~t(j)) >> c(j-1))

for i in range(n):
    for j in range(m):
        # Variable de seleccionar
        constraints.append(Equals(s(i,j), And(r(i), c(j))))
        if shape[i][j] != 0:
            # Si seleccionem la cel·la però no estava en la regió original compta com un error
            constraints.append(Equals(e(i,j), ~s(i,j)))
        else:
            # Si no seleccionem la cel·la que estava en la regió original compta com un error
            constraints.append(Equals(e(i,j), s(i,j)))
        
formula = And(*[constraint for constraint in constraints])

satisfiable = True
bound = n*m
last_model = None
while satisfiable:
    with Solver(name='gc4', bootstrap_with=formula) as solver:
        solver.add_atmost(lits=[l(i).name for i in range(n)], k=1)  # AMO(li)
        solver.add_atmost(lits=[t(j).name for j in range(m)], k=1)  # AMO(tj)
        solver.add_atmost(lits=[e(i,j).name for i in range(n) for j in range(m)], k=bound)
        if solver.solve():
            print("satisfiable")
            last_model = solver.get_model()
            new_bound = 0
            for i in range(n):
                for j in range(m):
                    if e(i,j).name in solver.get_model():
                        print(e(i,j).name)
                        new_bound += 1
            print("New bound", new_bound)
            bound = new_bound - 1
        else:
            satisfiable = False
            print("unsatisfiable")


result = np.zeros((n,m))
for i in range(n):
    for j in range(m):
        if s(i,j).name in last_model:
            result[i][j] = 1

print(result)


print(last_model)


from pysat.formula import *
from pysat.card import *
from pysat.solvers import Solver
import numpy as np

# Definim la forma que volem cobrir amb un rectangle
shape = np.array([[0, 0, 0, 1, 1, 0],
                  [0, 1, 1, 1, 1, 0],
                  [1, 1, 1, 1, 1, 0],
                  [0, 1, 1, 1, 1, 1],
                  [0, 0, 1, 1, 1, 0]])
#shape = np.array([[1,1,1,0],[1,1,0,0],[1,0,0,0]])
n = shape.shape[0]
m = shape.shape[1]

# De moment només treballarem amb k=1 rectangles
vpool = IDPool()  # IDPool() controla el canvi de nom <-> literal (nombre >= 1)
e = lambda i, j: Atom(vpool.id('e{},{}'.format(i, j)))
s = lambda k, i, j: Atom(vpool.id('s{},{},{}'.format(k, i, j)))
l = lambda k, i: Atom(vpool.id('l{},{}'.format(k, i)))
r = lambda k, i: Atom(vpool.id('r{},{}'.format(k, i)))
t = lambda k, j: Atom(vpool.id('t{},{}'.format(k, j)))
c = lambda k, j: Atom(vpool.id('c{},{}'.format(k, j)))

# Definim totes les fórmules que després hauran d'anar juntes amb un And
k_rect = 2
constraints = [[] for k in range(k_rect)]
for k in range(k_rect):
    # Restriccions files
    constraints[k].append(Equals(l(k,0), r(k,0)))
    for i in range(1, n):
        constraints[k].append(l(k,i) >> And(r(k,i), ~r(k,i-1)))  # >> vol dir implicació
        constraints[k].append(And(r(k,i), ~l(k,i)) >> r(k,i-1))
    
    # Restriccions columnes
    constraints.append(Equals(t(k,0), c(k,0)))
    for j in range(1, m):
        constraints.append(t(k,j) >> And(c(k,j), ~c(k,j-1)))
        constraints.append(And(c(k,j), ~t(k,j)) >> c(k,j-1))

err_constraints = []
for i in range(n):
    for j in range(m):
        # Variable de seleccionar
        for k in range(k_rect):
            constraints[k].append(Equals(s(k,i,j), And(r(k,i), c(k,j))))
        if shape[i][j] != 0:
            # Si seleccionem la cel·la però no estava en la regió original compta com un error
            err_constraints.append(Equals(e(i,j), ~Or(*[s(k,i,j) for k in range(k_rect)])))
        else:
            # Si no seleccionem la cel·la que estava en la regió original compta com un error
            err_constraints.append(Equals(e(i,j), Or(*[s(k,i,j) for k in range(k_rect)])))

formula = And(*[c for c in err_constraints], *[And(*[c for c in constraints[k]]) for k in range(k_rect)])

satisfiable = True
bound = n*m
last_model = None
while satisfiable:
    with Solver(name='gc4', bootstrap_with=formula) as solver:
        if not solver.solve():
            print("unsatisfiability confirmed")
            break
        for k in range(k_rect):
            solver.add_atmost(lits=[l(k,i).name for i in range(n)], k=1)  # AMO(li)
            solver.add_atmost(lits=[t(k,j).name for j in range(m)], k=1)  # AMO(tj)
        solver.add_atmost(lits=[e(i,j).name for i in range(n) for j in range(m)], k=bound)
        if solver.solve():
            print("satisfiable")
            last_model = solver.get_model()
            new_bound = 0
            for i in range(n):
                for j in range(m):
                    if e(i,j).name in solver.get_model():
                        new_bound += 1
            print("New bound", new_bound)
            bound = new_bound - 1
        else:
            satisfiable = False
            print("unsatisfiable")

result = np.zeros((n,m))
if last_model:
    for i in range(n):
        for j in range(m):
            for k in range(k_rect):
                if s(k,i,j).name in last_model:
                    result[i][j] = 1

print(result)


















def rectangle_formula(n: int, m: int, k: int, vpool: IDPool, solver: Solver):
    t = lambda k, i: Atom(vpool.id('t{},{}'.format(k, i)))
    b = lambda k, i: Atom(vpool.id('b{},{}'.format(k, i)))
    l = lambda k, j: Atom(vpool.id('l{},{}'.format(k, j)))
    r = lambda k, j: Atom(vpool.id('r{},{}'.format(k, j)))

    constraints = []
    constraints.append(Equals(t(k,1), Or(*[c(k,1,j) for j in range(1, m+1)])))
    for i in range(2, n+1):
        constraints.append(Equals(t(k,i), Or(*[And(Neg(c(k,i-1,j)), c(k,i,j)) for j in range(1, m+1)])))
    solver.add_atmost(lits=[-t(k,i).name for i in range(1, n+1)], k=n-1)

    constraints.append(Equals(b(k,n), Or(*[c(k,n,j) for j in range(1, m+1)])))
    for i in range(1, n):
        constraints.append(Equals(b(k,i), Or(*[And(Neg(c(k,i+1,j)), c(k,i,j)) for j in range(1, m+1)])))
    solver.add_atmost(lits=[-b(k,i).name for i in range(1, n+1)], k=n-1)

    constraints.append(Equals(l(k,1), Or(*[c(k,i,1) for i in range(1, n+1)])))
    for j in range(2, m+1):
        constraints.append(Equals(l(k,j), Or(*[And(Neg(c(k,i,j-1)), c(k,i,j)) for i in range(1, n+1)])))
    solver.add_atmost(lits=[-l(k,j).name for j in range(1, m+1)], k=m-1)

    constraints.append(Equals(r(k,m), Or(*[c(k,i,m) for i in range(1, n+1)])))
    for j in range(1, m):
        constraints.append(Equals(r(k,j), Or(*[And(Neg(c(k,i,j+1)), c(k,i,j)) for i in range(1, n+1)])))
    solver.add_atmost(lits=[-r(k,j).name for j in range(1, m+1)], k=m-1)

    for i in range(1, n+1):
        for j in range(1, m+1):
            

    return constraints
    #rect_constr = And(*[constraint for constraint in constraints])
    #for clause in rect_constr:
    #    solver.add_clause(clause)


with Solver(name='gc4') as solver:
    vpool = IDPool()
    c = lambda k, i, j: Atom(vpool.id('c{},{},{}'.format(k, i, j)))
    k_rect = 1
    constraints = []
    for k in range(1, k_rect+1):
        constraints += rectangle_formula(n, m, k, vpool, solver)
    s = lambda i, j: Atom(vpool.id('s{},{}'.format(i, j)))
    e = lambda i, j: Atom(vpool.id('e{},{}'.format(i, j)))
    for i in range(1, n+1):
        for j in range(1, m+1):
            #constraints.append(Equals(s(i,j), Or(*[c(k,i,j) for k in range(1,k_rect+1)])))
            #constraints.append(Equals(e(i,j), Neg(s(i,j)) if shape[i-1][j-1] != 0 else s(i,j)))
    
    err_constr = And(*[constraint for constraint in constraints])
    #err_constr.clausify()
    print(err_constr)
    for clause in err_constr:
        solver.add_clause(clause)
    bound = n*m
    #solver.add_atmost(lits=[e(i,k).name for i in range(1, n+1) for j in range(1, m+1)], k=bound)          
    if solver.solve():
        print("satisfiable")
        for o in solver.get_model():
            if (o > 0 and vpool.obj(o)):
                print(vpool.obj(o))
    else:
        print("unsatisfiable")
